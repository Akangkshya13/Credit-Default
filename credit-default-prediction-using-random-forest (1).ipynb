{
 "cells": [
  {
   "cell_type": "code",
   "execution_count": 3,
   "id": "40279da1",
   "metadata": {
    "_cell_guid": "b1076dfc-b9ad-4769-8c92-a6c4dae69d19",
    "_uuid": "8f2839f25d086af736a60e9eeb907d3b93b6e0e5",
    "papermill": {
     "duration": 3.154431,
     "end_time": "2024-08-31T04:30:52.940441",
     "exception": false,
     "start_time": "2024-08-31T04:30:49.786010",
     "status": "completed"
    },
    "tags": []
   },
   "outputs": [],
   "source": [
    "import pandas as pd \n",
    "import numpy as np\n",
    "import matplotlib\n",
    "import matplotlib.pyplot as plt\n",
    "import seaborn as sns\n",
    "\n",
    "import gc\n",
    "from datetime import datetime \n",
    "from sklearn.model_selection import train_test_split\n",
    "from sklearn.metrics import roc_auc_score\n",
    "from sklearn.ensemble import RandomForestClassifier\n",
    "import warnings\n",
    "warnings.filterwarnings('ignore')"
   ]
  },
  {
   "cell_type": "code",
   "execution_count": 4,
   "id": "63cee386",
   "metadata": {
    "papermill": {
     "duration": 15.182262,
     "end_time": "2024-08-31T04:31:08.130931",
     "exception": false,
     "start_time": "2024-08-31T04:30:52.948669",
     "status": "completed"
    },
    "tags": []
   },
   "outputs": [
    {
     "name": "stdout",
     "output_type": "stream",
     "text": [
      "Collecting xlrd\n",
      "  Using cached xlrd-2.0.1-py2.py3-none-any.whl.metadata (3.4 kB)\n",
      "Using cached xlrd-2.0.1-py2.py3-none-any.whl (96 kB)\n",
      "Installing collected packages: xlrd\n",
      "Successfully installed xlrd-2.0.1\n",
      "Note: you may need to restart the kernel to use updated packages.\n"
     ]
    }
   ],
   "source": [
    "pip install xlrd"
   ]
  },
  {
   "cell_type": "code",
   "execution_count": 1,
   "id": "1b146a15",
   "metadata": {
    "papermill": {
     "duration": 2.572249,
     "end_time": "2024-08-31T04:31:10.711909",
     "exception": false,
     "start_time": "2024-08-31T04:31:08.139660",
     "status": "completed"
    },
    "tags": []
   },
   "outputs": [
    {
     "name": "stdout",
     "output_type": "stream",
     "text": [
      "File not found: /mnt/data/default of credit card clients.xls. Please check the file path.\n",
      "\n",
      "Dataset Information:\n",
      "Unable to process the dataset: name 'data' is not defined\n"
     ]
    }
   ],
   "source": [
    "# Import necessary libraries\n",
    "import pandas as pd\n",
    "\n",
    "# Correct file path (use the uploaded file location)\n",
    "file_path = '/mnt/data/default of credit card clients.xls'\n",
    "\n",
    "# Load the Excel file\n",
    "try:\n",
    "    data = pd.read_excel(file_path, header=1, engine='xlrd')  # Use header=1 to skip the first row\n",
    "    print(\"Data loaded successfully!\")\n",
    "    print(data.head())\n",
    "except FileNotFoundError:\n",
    "    print(f\"File not found: {file_path}. Please check the file path.\")\n",
    "except Exception as e:\n",
    "    print(f\"An error occurred: {e}\")\n",
    "\n",
    "# Optional: Display additional information about the dataset\n",
    "try:\n",
    "    print(\"\\nDataset Information:\")\n",
    "    print(data.info())\n",
    "    print(\"\\nDataset Shape:\", data.shape)\n",
    "except Exception as e:\n",
    "    print(f\"Unable to process the dataset: {e}\")"
   ]
  },
  {
   "cell_type": "code",
   "execution_count": null,
   "id": "96ac8c20-5b0a-4154-b61e-d07061fb9955",
   "metadata": {},
   "outputs": [],
   "source": []
  },
  {
   "cell_type": "code",
   "execution_count": null,
   "id": "9672d5a1",
   "metadata": {
    "papermill": {
     "duration": 0.018525,
     "end_time": "2024-08-31T04:31:10.739385",
     "exception": false,
     "start_time": "2024-08-31T04:31:10.720860",
     "status": "completed"
    },
    "tags": []
   },
   "outputs": [],
   "source": [
    "print(\"Default Credit Card Clients data -  rows:\",data.shape[0],\" columns:\", data.shape[1])"
   ]
  },
  {
   "cell_type": "code",
   "execution_count": null,
   "id": "94bb3fee",
   "metadata": {
    "papermill": {
     "duration": 0.037918,
     "end_time": "2024-08-31T04:31:10.786081",
     "exception": false,
     "start_time": "2024-08-31T04:31:10.748163",
     "status": "completed"
    },
    "tags": []
   },
   "outputs": [],
   "source": [
    "data.info()"
   ]
  },
  {
   "cell_type": "code",
   "execution_count": null,
   "id": "748eda16",
   "metadata": {
    "papermill": {
     "duration": 0.102968,
     "end_time": "2024-08-31T04:31:10.898010",
     "exception": false,
     "start_time": "2024-08-31T04:31:10.795042",
     "status": "completed"
    },
    "tags": []
   },
   "outputs": [],
   "source": [
    "data.describe()"
   ]
  },
  {
   "cell_type": "code",
   "execution_count": null,
   "id": "93dffabc",
   "metadata": {
    "papermill": {
     "duration": 0.044464,
     "end_time": "2024-08-31T04:31:10.951750",
     "exception": false,
     "start_time": "2024-08-31T04:31:10.907286",
     "status": "completed"
    },
    "tags": []
   },
   "outputs": [],
   "source": [
    "total = data.isnull().sum().sort_values(ascending=False)\n",
    "percent = data.isnull().sum()/data.shape[0]*100\n",
    "pd.concat([total, percent], axis=1, keys=['Total', 'Percent']).transpose()\n",
    "#pd.concat(): This function is used to concatenate two or more pandas objects (like DataFrames or Series) along a particular axis."
   ]
  },
  {
   "cell_type": "code",
   "execution_count": 1,
   "id": "417e7bbe",
   "metadata": {
    "papermill": {
     "duration": 0.328879,
     "end_time": "2024-08-31T04:31:11.290104",
     "exception": false,
     "start_time": "2024-08-31T04:31:10.961225",
     "status": "completed"
    },
    "tags": []
   },
   "outputs": [
    {
     "ename": "NameError",
     "evalue": "name 'data' is not defined",
     "output_type": "error",
     "traceback": [
      "\u001b[1;31m---------------------------------------------------------------------------\u001b[0m",
      "\u001b[1;31mNameError\u001b[0m                                 Traceback (most recent call last)",
      "Cell \u001b[1;32mIn[1], line 1\u001b[0m\n\u001b[1;32m----> 1\u001b[0m temp \u001b[38;5;241m=\u001b[39m data[\u001b[38;5;124m\"\u001b[39m\u001b[38;5;124mdefault payment next month\u001b[39m\u001b[38;5;124m\"\u001b[39m]\u001b[38;5;241m.\u001b[39mvalue_counts(normalize\u001b[38;5;241m=\u001b[39m\u001b[38;5;28;01mTrue\u001b[39;00m)\n\u001b[0;32m      2\u001b[0m df \u001b[38;5;241m=\u001b[39m pd\u001b[38;5;241m.\u001b[39mDataFrame({\u001b[38;5;124m'\u001b[39m\u001b[38;5;124mdefault payment next month\u001b[39m\u001b[38;5;124m'\u001b[39m: temp\u001b[38;5;241m.\u001b[39mindex,\u001b[38;5;124m'\u001b[39m\u001b[38;5;124mvalues\u001b[39m\u001b[38;5;124m'\u001b[39m: temp\u001b[38;5;241m.\u001b[39mvalues})\n\u001b[0;32m      4\u001b[0m plt\u001b[38;5;241m.\u001b[39mfigure(dpi \u001b[38;5;241m=\u001b[39m \u001b[38;5;241m140\u001b[39m)\n",
      "\u001b[1;31mNameError\u001b[0m: name 'data' is not defined"
     ]
    }
   ],
   "source": [
    "temp = data[\"default payment next month\"].value_counts(normalize=True)\n",
    "df = pd.DataFrame({'default payment next month': temp.index,'values': temp.values})\n",
    "\n",
    "plt.figure(dpi = 140)\n",
    "plt.title('Checking data imbalance \\n (Default = 0, Not Default = 1)')\n",
    "plt.bar(df['default payment next month'], df['values'])\n",
    "plt.show()"
   ]
  },
  {
   "cell_type": "code",
   "execution_count": 3,
   "id": "34de9e3c",
   "metadata": {
    "papermill": {
     "duration": 0.825711,
     "end_time": "2024-08-31T04:31:12.126041",
     "exception": false,
     "start_time": "2024-08-31T04:31:11.300330",
     "status": "completed"
    },
    "tags": []
   },
   "outputs": [
    {
     "ename": "NameError",
     "evalue": "name 'plt' is not defined",
     "output_type": "error",
     "traceback": [
      "\u001b[1;31m---------------------------------------------------------------------------\u001b[0m",
      "\u001b[1;31mNameError\u001b[0m                                 Traceback (most recent call last)",
      "Cell \u001b[1;32mIn[3], line 1\u001b[0m\n\u001b[1;32m----> 1\u001b[0m plt\u001b[38;5;241m.\u001b[39mfigure(figsize \u001b[38;5;241m=\u001b[39m (\u001b[38;5;241m14\u001b[39m,\u001b[38;5;241m6\u001b[39m))\n\u001b[0;32m      2\u001b[0m plt\u001b[38;5;241m.\u001b[39mtitle(\u001b[38;5;124m\"\u001b[39m\u001b[38;5;124mAmount of credit limit - Density Plot\u001b[39m\u001b[38;5;124m\"\u001b[39m)\n\u001b[0;32m      3\u001b[0m sns\u001b[38;5;241m.\u001b[39mset_color_codes(\u001b[38;5;124m\"\u001b[39m\u001b[38;5;124mpastel\u001b[39m\u001b[38;5;124m\"\u001b[39m)\n",
      "\u001b[1;31mNameError\u001b[0m: name 'plt' is not defined"
     ]
    }
   ],
   "source": [
    "plt.figure(figsize = (14,6))\n",
    "plt.title(\"Amount of credit limit - Density Plot\")\n",
    "sns.set_color_codes(\"pastel\")\n",
    "sns.distplot(data['LIMIT_BAL'],kde=True,bins=200,color=\"blue\")\n",
    "plt.show()"
   ]
  },
  {
   "cell_type": "code",
   "execution_count": 5,
   "id": "53834a4e",
   "metadata": {
    "papermill": {
     "duration": 0.021844,
     "end_time": "2024-08-31T04:31:12.158577",
     "exception": false,
     "start_time": "2024-08-31T04:31:12.136733",
     "status": "completed"
    },
    "tags": []
   },
   "outputs": [
    {
     "ename": "NameError",
     "evalue": "name 'data' is not defined",
     "output_type": "error",
     "traceback": [
      "\u001b[1;31m---------------------------------------------------------------------------\u001b[0m",
      "\u001b[1;31mNameError\u001b[0m                                 Traceback (most recent call last)",
      "Cell \u001b[1;32mIn[5], line 1\u001b[0m\n\u001b[1;32m----> 1\u001b[0m data[\u001b[38;5;124m'\u001b[39m\u001b[38;5;124mLIMIT_BAL\u001b[39m\u001b[38;5;124m'\u001b[39m]\u001b[38;5;241m.\u001b[39mvalue_counts()\u001b[38;5;241m.\u001b[39mshape\n",
      "\u001b[1;31mNameError\u001b[0m: name 'data' is not defined"
     ]
    }
   ],
   "source": [
    "data['LIMIT_BAL'].value_counts().shape"
   ]
  },
  {
   "cell_type": "code",
   "execution_count": null,
   "id": "c69e806f",
   "metadata": {
    "papermill": {
     "duration": 0.023604,
     "end_time": "2024-08-31T04:31:12.193220",
     "exception": false,
     "start_time": "2024-08-31T04:31:12.169616",
     "status": "completed"
    },
    "tags": []
   },
   "outputs": [],
   "source": [
    "data['LIMIT_BAL'].value_counts()"
   ]
  },
  {
   "cell_type": "code",
   "execution_count": null,
   "id": "c6de0c49",
   "metadata": {
    "papermill": {
     "duration": 0.022199,
     "end_time": "2024-08-31T04:31:12.226161",
     "exception": false,
     "start_time": "2024-08-31T04:31:12.203962",
     "status": "completed"
    },
    "tags": []
   },
   "outputs": [],
   "source": [
    "grouped_data = data.groupby('default payment next month')[\"LIMIT_BAL\"]\n",
    "\n",
    "class_0 = grouped_data.get_group(0)\n",
    "class_1 = grouped_data.get_group(1)"
   ]
  },
  {
   "cell_type": "code",
   "execution_count": null,
   "id": "2b3cca16",
   "metadata": {
    "papermill": {
     "duration": 0.022353,
     "end_time": "2024-08-31T04:31:12.259305",
     "exception": false,
     "start_time": "2024-08-31T04:31:12.236952",
     "status": "completed"
    },
    "tags": []
   },
   "outputs": [],
   "source": [
    "class_1"
   ]
  },
  {
   "cell_type": "code",
   "execution_count": null,
   "id": "fc49707c",
   "metadata": {
    "papermill": {
     "duration": 0.022682,
     "end_time": "2024-08-31T04:31:12.292922",
     "exception": false,
     "start_time": "2024-08-31T04:31:12.270240",
     "status": "completed"
    },
    "tags": []
   },
   "outputs": [],
   "source": [
    "class_0"
   ]
  },
  {
   "cell_type": "code",
   "execution_count": null,
   "id": "7816cd93",
   "metadata": {
    "papermill": {
     "duration": 1.262823,
     "end_time": "2024-08-31T04:31:13.567047",
     "exception": false,
     "start_time": "2024-08-31T04:31:12.304224",
     "status": "completed"
    },
    "tags": []
   },
   "outputs": [],
   "source": [
    "plt.figure(figsize = (14,6))\n",
    "plt.title('Default amount of credit limit  - grouped by Payment Next Month (Density Plot)')\n",
    "sns.set_color_codes(\"pastel\")\n",
    "sns.distplot(class_1,kde=True,bins=200, color=\"red\")\n",
    "sns.distplot(class_0,kde=True,bins=200, color=\"green\")\n",
    "plt.show()"
   ]
  },
  {
   "cell_type": "code",
   "execution_count": null,
   "id": "ae810c03",
   "metadata": {
    "papermill": {
     "duration": 0.456842,
     "end_time": "2024-08-31T04:31:14.036544",
     "exception": false,
     "start_time": "2024-08-31T04:31:13.579702",
     "status": "completed"
    },
    "tags": []
   },
   "outputs": [],
   "source": [
    "fig, (ax1, ax2) = plt.subplots(ncols=2, figsize=(12,6))\n",
    "s = sns.boxplot(ax = ax1, x=\"SEX\", y=\"LIMIT_BAL\", hue=\"SEX\",data=data, palette=\"PRGn\",showfliers=True)\n",
    "s = sns.boxplot(ax = ax2, x=\"SEX\", y=\"LIMIT_BAL\", hue=\"SEX\",data=data, palette=\"PRGn\",showfliers=False)\n",
    "plt.show()\n",
    "#showfliers=True: Shows outliers in the boxplot (points that fall outside the whiskers of the boxplot)\n",
    "#ax1, ax2: The two subplot axes where the boxplots will be drawn. ax1 will be the first subplot (left), and ax2 will be the second subplot (right)."
   ]
  },
  {
   "cell_type": "code",
   "execution_count": null,
   "id": "bd7d98fd",
   "metadata": {
    "papermill": {
     "duration": 0.027915,
     "end_time": "2024-08-31T04:31:14.076961",
     "exception": false,
     "start_time": "2024-08-31T04:31:14.049046",
     "status": "completed"
    },
    "tags": []
   },
   "outputs": [],
   "source": [
    "data.info()"
   ]
  },
  {
   "cell_type": "code",
   "execution_count": null,
   "id": "e4e2054d",
   "metadata": {
    "papermill": {
     "duration": 0.358421,
     "end_time": "2024-08-31T04:31:14.447911",
     "exception": false,
     "start_time": "2024-08-31T04:31:14.089490",
     "status": "completed"
    },
    "tags": []
   },
   "outputs": [],
   "source": [
    "var = ['PAY_AMT1','PAY_AMT2','PAY_AMT3','PAY_AMT4','PAY_AMT5']\n",
    "\n",
    "plt.figure(figsize = (8,8))\n",
    "plt.title('Amount of previous payment (Apr-Sept) \\ncorrelation plot')\n",
    "corr = data[var].corr()\n",
    "sns.heatmap(corr,xticklabels=corr.columns,yticklabels=corr.columns,linewidths=.1,\n",
    "            vmin=-1, vmax=1)\n",
    "plt.show()"
   ]
  },
  {
   "cell_type": "code",
   "execution_count": null,
   "id": "b5232cde",
   "metadata": {
    "papermill": {
     "duration": 0.330062,
     "end_time": "2024-08-31T04:31:14.791216",
     "exception": false,
     "start_time": "2024-08-31T04:31:14.461154",
     "status": "completed"
    },
    "tags": []
   },
   "outputs": [],
   "source": [
    "var = ['PAY_0','PAY_2','PAY_3','PAY_4','PAY_5','PAY_6']\n",
    "\n",
    "plt.figure(figsize = (8,8))\n",
    "plt.title('Repayment status (Apr-Sept) \\ncorrelation plot')\n",
    "corr = data[var].corr()\n",
    "sns.heatmap(corr,xticklabels=corr.columns,yticklabels=corr.columns,linewidths=.1,vmin=-1, vmax=1)\n",
    "plt.show()"
   ]
  },
  {
   "cell_type": "code",
   "execution_count": null,
   "id": "7e32c529",
   "metadata": {
    "papermill": {
     "duration": 0.026618,
     "end_time": "2024-08-31T04:31:14.831848",
     "exception": false,
     "start_time": "2024-08-31T04:31:14.805230",
     "status": "completed"
    },
    "tags": []
   },
   "outputs": [],
   "source": [
    "def boxplot_variation(feature1, feature2, feature3, width=16):\n",
    "    fig, ax1 = plt.subplots(ncols=1, figsize=(width,6))\n",
    "    s = sns.boxplot(ax = ax1, x=feature1, y=feature2, hue=feature3,\n",
    "                data=data, palette=\"PRGn\",showfliers=False)\n",
    "    s.set_xticklabels(s.get_xticklabels(),rotation=90)\n",
    "    plt.show()"
   ]
  },
  {
   "cell_type": "code",
   "execution_count": null,
   "id": "ffbaaee2",
   "metadata": {
    "papermill": {
     "duration": 0.346078,
     "end_time": "2024-08-31T04:31:15.191752",
     "exception": false,
     "start_time": "2024-08-31T04:31:14.845674",
     "status": "completed"
    },
    "tags": []
   },
   "outputs": [],
   "source": [
    "boxplot_variation('MARRIAGE','AGE', 'SEX',8)"
   ]
  },
  {
   "cell_type": "code",
   "execution_count": null,
   "id": "e3d2a278",
   "metadata": {
    "papermill": {
     "duration": 0.494151,
     "end_time": "2024-08-31T04:31:15.700173",
     "exception": false,
     "start_time": "2024-08-31T04:31:15.206022",
     "status": "completed"
    },
    "tags": []
   },
   "outputs": [],
   "source": [
    "boxplot_variation('EDUCATION','AGE', 'MARRIAGE',12)"
   ]
  },
  {
   "cell_type": "code",
   "execution_count": null,
   "id": "8a5b9fe0",
   "metadata": {
    "papermill": {
     "duration": 1.780503,
     "end_time": "2024-08-31T04:31:17.495092",
     "exception": false,
     "start_time": "2024-08-31T04:31:15.714589",
     "status": "completed"
    },
    "tags": []
   },
   "outputs": [],
   "source": [
    "boxplot_variation('AGE','LIMIT_BAL', 'SEX',16)"
   ]
  },
  {
   "cell_type": "code",
   "execution_count": null,
   "id": "b2343780",
   "metadata": {
    "papermill": {
     "duration": 0.511617,
     "end_time": "2024-08-31T04:31:18.022305",
     "exception": false,
     "start_time": "2024-08-31T04:31:17.510688",
     "status": "completed"
    },
    "tags": []
   },
   "outputs": [],
   "source": [
    "boxplot_variation('MARRIAGE','LIMIT_BAL', 'EDUCATION',12)"
   ]
  },
  {
   "cell_type": "code",
   "execution_count": null,
   "id": "76b3dfe9",
   "metadata": {
    "papermill": {
     "duration": 0.024857,
     "end_time": "2024-08-31T04:31:18.062990",
     "exception": false,
     "start_time": "2024-08-31T04:31:18.038133",
     "status": "completed"
    },
    "tags": []
   },
   "outputs": [],
   "source": [
    "target = 'default.payment.next.month'\n",
    "predictors = [  'LIMIT_BAL', 'SEX', 'EDUCATION', 'MARRIAGE', 'AGE', \n",
    "                'PAY_0', 'PAY_2', 'PAY_3', 'PAY_4', 'PAY_5', 'PAY_6', \n",
    "                'BILL_AMT1','BILL_AMT2', 'BILL_AMT3', 'BILL_AMT4', 'BILL_AMT5', 'BILL_AMT6',\n",
    "                'PAY_AMT1', 'PAY_AMT2', 'PAY_AMT3', 'PAY_AMT4', 'PAY_AMT5', 'PAY_AMT6']"
   ]
  },
  {
   "cell_type": "code",
   "execution_count": null,
   "id": "1145aea5",
   "metadata": {
    "papermill": {
     "duration": 0.033216,
     "end_time": "2024-08-31T04:31:18.112037",
     "exception": false,
     "start_time": "2024-08-31T04:31:18.078821",
     "status": "completed"
    },
    "tags": []
   },
   "outputs": [],
   "source": [
    "train_df, val_df = train_test_split(data, test_size=0.25, random_state=42, shuffle=True )"
   ]
  },
  {
   "cell_type": "code",
   "execution_count": null,
   "id": "397a0f82",
   "metadata": {
    "papermill": {
     "duration": 0.026286,
     "end_time": "2024-08-31T04:31:18.153952",
     "exception": false,
     "start_time": "2024-08-31T04:31:18.127666",
     "status": "completed"
    },
    "tags": []
   },
   "outputs": [],
   "source": [
    "train_df_copy = train_df.copy()\n",
    "val_df_copy = val_df.copy()"
   ]
  },
  {
   "cell_type": "code",
   "execution_count": null,
   "id": "7a985682",
   "metadata": {
    "papermill": {
     "duration": 0.024523,
     "end_time": "2024-08-31T04:31:18.194183",
     "exception": false,
     "start_time": "2024-08-31T04:31:18.169660",
     "status": "completed"
    },
    "tags": []
   },
   "outputs": [],
   "source": [
    "classifier = RandomForestClassifier(class_weight='balanced',\n",
    "                                    n_jobs = -1,\n",
    "                                   random_state = 42,\n",
    "                                   criterion='gini',\n",
    "                                   n_estimators = 350,\n",
    "                                   verbose = False)\n",
    "#No output or minimal output is shown."
   ]
  },
  {
   "cell_type": "code",
   "execution_count": null,
   "id": "9c209253",
   "metadata": {
    "papermill": {
     "duration": 0.027968,
     "end_time": "2024-08-31T04:31:18.237955",
     "exception": false,
     "start_time": "2024-08-31T04:31:18.209987",
     "status": "completed"
    },
    "tags": []
   },
   "outputs": [],
   "source": [
    "predictors = train_df.drop(columns = ['default payment next month']).columns.values\n",
    "target = 'default payment next month'"
   ]
  },
  {
   "cell_type": "code",
   "execution_count": null,
   "id": "81c3bbd3",
   "metadata": {
    "papermill": {
     "duration": 10.107268,
     "end_time": "2024-08-31T04:31:28.360962",
     "exception": false,
     "start_time": "2024-08-31T04:31:18.253694",
     "status": "completed"
    },
    "tags": []
   },
   "outputs": [],
   "source": [
    "classifier.fit(train_df[predictors].values, train_df[target].values)\n",
    "#using .values extracts the underlying NumPy array from the DataFrame or Series"
   ]
  },
  {
   "cell_type": "code",
   "execution_count": null,
   "id": "79f861f4",
   "metadata": {
    "papermill": {
     "duration": 0.278978,
     "end_time": "2024-08-31T04:31:28.655921",
     "exception": false,
     "start_time": "2024-08-31T04:31:28.376943",
     "status": "completed"
    },
    "tags": []
   },
   "outputs": [],
   "source": [
    "preds = classifier.predict(val_df[predictors])"
   ]
  },
  {
   "cell_type": "code",
   "execution_count": null,
   "id": "0aa1ce3d",
   "metadata": {
    "papermill": {
     "duration": 0.464629,
     "end_time": "2024-08-31T04:31:29.136344",
     "exception": false,
     "start_time": "2024-08-31T04:31:28.671715",
     "status": "completed"
    },
    "tags": []
   },
   "outputs": [],
   "source": [
    "tmp = pd.DataFrame({'Feature': predictors, 'Feature importance': classifier.feature_importances_})\n",
    "tmp = tmp.sort_values(by='Feature importance',ascending=False)\n",
    "plt.figure(figsize = (7,4))\n",
    "plt.title('Features importance',fontsize=14)\n",
    "s = sns.barplot(x='Feature',y='Feature importance',data=tmp)\n",
    "s.set_xticklabels(s.get_xticklabels(),rotation=90)\n",
    "plt.show()   \n",
    "#clf.feature_importances_: This is an attribute from the trained model clf(likely a tree-based model like RandomForest or GradientBoosting) that provides the importance scores for each feature."
   ]
  },
  {
   "cell_type": "code",
   "execution_count": null,
   "id": "e18c4356",
   "metadata": {
    "papermill": {
     "duration": 0.292134,
     "end_time": "2024-08-31T04:31:29.445324",
     "exception": false,
     "start_time": "2024-08-31T04:31:29.153190",
     "status": "completed"
    },
    "tags": []
   },
   "outputs": [],
   "source": [
    "cm = pd.crosstab(val_df[target].values, preds, rownames=['Actual'], colnames=['Predicted'])\n",
    "fig, (ax1) = plt.subplots(ncols=1, figsize=(5,5))\n",
    "sns.heatmap(cm, \n",
    "            xticklabels=['Not Default','Default'],\n",
    "            yticklabels=['Not Default','Default'],\n",
    "            annot=True,ax=ax1,\n",
    "            linewidths=.2,linecolor=\"Darkblue\", cmap=\"Reds\")\n",
    "plt.title('Confusion Matrix', fontsize=14)\n",
    "plt.show()\n",
    "#cmap=\"Blues\": Sets the color map of the heatmap to shades of blue"
   ]
  },
  {
   "cell_type": "code",
   "execution_count": null,
   "id": "2ec90914",
   "metadata": {
    "papermill": {
     "duration": 0.035622,
     "end_time": "2024-08-31T04:31:29.499203",
     "exception": false,
     "start_time": "2024-08-31T04:31:29.463581",
     "status": "completed"
    },
    "tags": []
   },
   "outputs": [],
   "source": [
    "roc_auc_score(val_df[target].values, preds)"
   ]
  },
  {
   "cell_type": "code",
   "execution_count": null,
   "id": "ec913238",
   "metadata": {
    "papermill": {
     "duration": 0.016938,
     "end_time": "2024-08-31T04:31:29.533591",
     "exception": false,
     "start_time": "2024-08-31T04:31:29.516653",
     "status": "completed"
    },
    "tags": []
   },
   "outputs": [],
   "source": []
  }
 ],
 "metadata": {
  "kaggle": {
   "accelerator": "none",
   "dataSources": [
    {
     "datasetId": 5616000,
     "sourceId": 9278888,
     "sourceType": "datasetVersion"
    }
   ],
   "dockerImageVersionId": 30761,
   "isGpuEnabled": false,
   "isInternetEnabled": true,
   "language": "python",
   "sourceType": "notebook"
  },
  "kernelspec": {
   "display_name": "Python [conda env:base] *",
   "language": "python",
   "name": "conda-base-py"
  },
  "language_info": {
   "codemirror_mode": {
    "name": "ipython",
    "version": 3
   },
   "file_extension": ".py",
   "mimetype": "text/x-python",
   "name": "python",
   "nbconvert_exporter": "python",
   "pygments_lexer": "ipython3",
   "version": "3.12.7"
  },
  "papermill": {
   "default_parameters": {},
   "duration": 43.793626,
   "end_time": "2024-08-31T04:31:30.373602",
   "environment_variables": {},
   "exception": null,
   "input_path": "__notebook__.ipynb",
   "output_path": "__notebook__.ipynb",
   "parameters": {},
   "start_time": "2024-08-31T04:30:46.579976",
   "version": "2.6.0"
  }
 },
 "nbformat": 4,
 "nbformat_minor": 5
}
